{
 "cells": [
  {
   "cell_type": "markdown",
   "metadata": {},
   "source": [
    "# Importing packages"
   ]
  },
  {
   "cell_type": "code",
   "execution_count": 3,
   "metadata": {},
   "outputs": [],
   "source": [
    "import requests\n",
    "import pandas as pd\n",
    "import mysql.connector\n",
    "import json"
   ]
  },
  {
   "cell_type": "markdown",
   "metadata": {},
   "source": [
    "In this ETL process we will be working with fetching COVID data from and API, transforming and loading into a MSQL database\n",
    "    * API is a free covid API of results from the USA\n",
    "    * MYSQL server to be used is a localhost server on my laptop"
   ]
  },
  {
   "cell_type": "code",
   "execution_count": 51,
   "metadata": {},
   "outputs": [
    {
     "data": {
      "text/plain": [
       "<Response [200]>"
      ]
     },
     "execution_count": 51,
     "metadata": {},
     "output_type": "execute_result"
    }
   ],
   "source": [
    "#fetching data from API\n",
    "URL=\"https://api.covidtracking.com/v1/states/ca/current.json\"\n",
    "covid_data=requests.get(URL)\n",
    "covid_data"
   ]
  },
  {
   "cell_type": "code",
   "execution_count": 52,
   "metadata": {},
   "outputs": [
    {
     "data": {
      "text/plain": [
       "{'date': 20210307,\n",
       " 'state': 'CA',\n",
       " 'positive': 3501394,\n",
       " 'probableCases': None,\n",
       " 'negative': None,\n",
       " 'pending': None,\n",
       " 'totalTestResultsSource': 'totalTestsViral',\n",
       " 'totalTestResults': 49646014,\n",
       " 'hospitalizedCurrently': 4291,\n",
       " 'hospitalizedCumulative': None,\n",
       " 'inIcuCurrently': 1159,\n",
       " 'inIcuCumulative': None,\n",
       " 'onVentilatorCurrently': None,\n",
       " 'onVentilatorCumulative': None,\n",
       " 'recovered': None,\n",
       " 'lastUpdateEt': '3/7/2021 02:59',\n",
       " 'dateModified': '2021-03-07T02:59:00Z',\n",
       " 'checkTimeEt': '03/06 21:59',\n",
       " 'death': 54124,\n",
       " 'hospitalized': None,\n",
       " 'hospitalizedDischarged': None,\n",
       " 'dateChecked': '2021-03-07T02:59:00Z',\n",
       " 'totalTestsViral': 49646014,\n",
       " 'positiveTestsViral': None,\n",
       " 'negativeTestsViral': None,\n",
       " 'positiveCasesViral': 3501394,\n",
       " 'deathConfirmed': None,\n",
       " 'deathProbable': None,\n",
       " 'totalTestEncountersViral': None,\n",
       " 'totalTestsPeopleViral': None,\n",
       " 'totalTestsAntibody': None,\n",
       " 'positiveTestsAntibody': None,\n",
       " 'negativeTestsAntibody': None,\n",
       " 'totalTestsPeopleAntibody': None,\n",
       " 'positiveTestsPeopleAntibody': None,\n",
       " 'negativeTestsPeopleAntibody': None,\n",
       " 'totalTestsPeopleAntigen': None,\n",
       " 'positiveTestsPeopleAntigen': None,\n",
       " 'totalTestsAntigen': None,\n",
       " 'positiveTestsAntigen': None,\n",
       " 'fips': '06',\n",
       " 'positiveIncrease': 3816,\n",
       " 'negativeIncrease': 0,\n",
       " 'total': 3501394,\n",
       " 'totalTestResultsIncrease': 133186,\n",
       " 'posNeg': 3501394,\n",
       " 'dataQualityGrade': None,\n",
       " 'deathIncrease': 258,\n",
       " 'hospitalizedIncrease': 0,\n",
       " 'hash': '63c5c0fd2daef2fb65150e9db486de98ed3f7b72',\n",
       " 'commercialScore': 0,\n",
       " 'negativeRegularScore': 0,\n",
       " 'negativeScore': 0,\n",
       " 'positiveScore': 0,\n",
       " 'score': 0,\n",
       " 'grade': ''}"
      ]
     },
     "execution_count": 52,
     "metadata": {},
     "output_type": "execute_result"
    }
   ],
   "source": [
    "data = json.loads(covid_data.text)\n",
    "data"
   ]
  },
  {
   "cell_type": "markdown",
   "metadata": {},
   "source": [
    "# Transform the Data from Json to a Pandas Dataframe"
   ]
  },
  {
   "cell_type": "code",
   "execution_count": 53,
   "metadata": {},
   "outputs": [
    {
     "data": {
      "text/html": [
       "<div>\n",
       "<style scoped>\n",
       "    .dataframe tbody tr th:only-of-type {\n",
       "        vertical-align: middle;\n",
       "    }\n",
       "\n",
       "    .dataframe tbody tr th {\n",
       "        vertical-align: top;\n",
       "    }\n",
       "\n",
       "    .dataframe thead th {\n",
       "        text-align: right;\n",
       "    }\n",
       "</style>\n",
       "<table border=\"1\" class=\"dataframe\">\n",
       "  <thead>\n",
       "    <tr style=\"text-align: right;\">\n",
       "      <th></th>\n",
       "      <th>date</th>\n",
       "      <th>state</th>\n",
       "      <th>positive</th>\n",
       "      <th>probableCases</th>\n",
       "      <th>negative</th>\n",
       "      <th>pending</th>\n",
       "      <th>totalTestResultsSource</th>\n",
       "      <th>totalTestResults</th>\n",
       "      <th>hospitalizedCurrently</th>\n",
       "      <th>hospitalizedCumulative</th>\n",
       "      <th>...</th>\n",
       "      <th>dataQualityGrade</th>\n",
       "      <th>deathIncrease</th>\n",
       "      <th>hospitalizedIncrease</th>\n",
       "      <th>hash</th>\n",
       "      <th>commercialScore</th>\n",
       "      <th>negativeRegularScore</th>\n",
       "      <th>negativeScore</th>\n",
       "      <th>positiveScore</th>\n",
       "      <th>score</th>\n",
       "      <th>grade</th>\n",
       "    </tr>\n",
       "  </thead>\n",
       "  <tbody>\n",
       "    <tr>\n",
       "      <th>0</th>\n",
       "      <td>20210307</td>\n",
       "      <td>CA</td>\n",
       "      <td>3501394</td>\n",
       "      <td>None</td>\n",
       "      <td>None</td>\n",
       "      <td>None</td>\n",
       "      <td>totalTestsViral</td>\n",
       "      <td>49646014</td>\n",
       "      <td>4291</td>\n",
       "      <td>None</td>\n",
       "      <td>...</td>\n",
       "      <td>None</td>\n",
       "      <td>258</td>\n",
       "      <td>0</td>\n",
       "      <td>63c5c0fd2daef2fb65150e9db486de98ed3f7b72</td>\n",
       "      <td>0</td>\n",
       "      <td>0</td>\n",
       "      <td>0</td>\n",
       "      <td>0</td>\n",
       "      <td>0</td>\n",
       "      <td></td>\n",
       "    </tr>\n",
       "  </tbody>\n",
       "</table>\n",
       "<p>1 rows × 56 columns</p>\n",
       "</div>"
      ],
      "text/plain": [
       "       date state  positive probableCases negative pending  \\\n",
       "0  20210307    CA   3501394          None     None    None   \n",
       "\n",
       "  totalTestResultsSource  totalTestResults  hospitalizedCurrently  \\\n",
       "0        totalTestsViral          49646014                   4291   \n",
       "\n",
       "  hospitalizedCumulative  ...  dataQualityGrade deathIncrease  \\\n",
       "0                   None  ...              None           258   \n",
       "\n",
       "  hospitalizedIncrease                                      hash  \\\n",
       "0                    0  63c5c0fd2daef2fb65150e9db486de98ed3f7b72   \n",
       "\n",
       "  commercialScore negativeRegularScore negativeScore positiveScore  score  \\\n",
       "0               0                    0             0             0      0   \n",
       "\n",
       "  grade  \n",
       "0        \n",
       "\n",
       "[1 rows x 56 columns]"
      ]
     },
     "execution_count": 53,
     "metadata": {},
     "output_type": "execute_result"
    }
   ],
   "source": [
    "data=pd.DataFrame(data, index=[0])\n",
    "data"
   ]
  },
  {
   "cell_type": "code",
   "execution_count": null,
   "metadata": {},
   "outputs": [],
   "source": []
  },
  {
   "cell_type": "code",
   "execution_count": null,
   "metadata": {},
   "outputs": [],
   "source": []
  },
  {
   "cell_type": "code",
   "execution_count": null,
   "metadata": {},
   "outputs": [],
   "source": []
  },
  {
   "cell_type": "markdown",
   "metadata": {},
   "source": [
    "# Load \n",
    "We will load the data into a MySQL database on a localhost server"
   ]
  },
  {
   "cell_type": "code",
   "execution_count": 54,
   "metadata": {},
   "outputs": [
    {
     "name": "stdout",
     "output_type": "stream",
     "text": [
      "<mysql.connector.connection.MySQLConnection object at 0x000000E6E78891C8>\n"
     ]
    }
   ],
   "source": [
    "# Connecting the MySQL server\n",
    "mysqldb = mysql.connector.connect(\n",
    "  host=\"localhost\",\n",
    "  user=\"root\",\n",
    "  password=\"goodies4SQL@\",\n",
    "  database=\"covidtracking\"\n",
    ")\n",
    "\n",
    "print(mysqldb)"
   ]
  },
  {
   "cell_type": "code",
   "execution_count": 63,
   "metadata": {},
   "outputs": [],
   "source": [
    "mycursor = mysqldb.cursor()\n",
    "mycursor.execute(\"DROP TABLE if exists covidtrack\")"
   ]
  },
  {
   "cell_type": "code",
   "execution_count": 64,
   "metadata": {},
   "outputs": [],
   "source": [
    "#Creating the table to Load the Pandas Dataframe\n",
    "mycursor.execute(\"CREATE TABLE covidtrack(date int, state varchar(2), positive int, probableCases int, negative int, pending int, totalTestResultsSource varchar(25), totalTestResults int, hospitalizedCurrently int, hospitalizedCumulative int, inIcuCurrently int, inIcuCumulative int, onVentilatorCurrently int, onVentilatorCumulative int, recovered int, lastUpdateEt datetime, dateModified datetime, checkTimeEt datetime, death int, hospitalized varchar(25), hospitalizedDischarged varchar(25), dateChecked datetime, totalTestsViral int, positiveTestsViral int, negativeTestsViral int, positiveCasesViral int, deathConfirmed Varchar(8), deathProbable Varchar(8), totalTestEncountersViral Varchar(8), totalTestsPeopleViral Varchar(8), totalTestsAntibody Varchar(8), positiveTestsAntibody Varchar(8), negativeTestsAntibody Varchar(8), totalTestsPeopleAntibody Varchar(8), positiveTestsPeopleAntibody Varchar(8), negativeTestsPeopleAntibody Varchar(8), totalTestsPeopleAntigen Varchar(8), positiveTestsPeopleAntigen Varchar(8), totalTestsAntigen Varchar(8), positiveTestsAntigen Varchar(8), fips int, positiveIncrease int, negativeIncrease int, total int, totalTestResultsIncrease int, posNeg int, dataQualityGrade Varchar(8), deathIncrease int, hospitalizedIncrease int, hash varchar(255), commercialScore int, negativeRegularScore int, negativeScore int, positiveScore int, score int, grade int )\")"
   ]
  },
  {
   "cell_type": "code",
   "execution_count": null,
   "metadata": {},
   "outputs": [],
   "source": [
    "data.to_sql('covidtrack', mysqldb, index=False)"
   ]
  }
 ],
 "metadata": {
  "kernelspec": {
   "display_name": "Python 3",
   "language": "python",
   "name": "python3"
  },
  "language_info": {
   "codemirror_mode": {
    "name": "ipython",
    "version": 3
   },
   "file_extension": ".py",
   "mimetype": "text/x-python",
   "name": "python",
   "nbconvert_exporter": "python",
   "pygments_lexer": "ipython3",
   "version": "3.7.6"
  }
 },
 "nbformat": 4,
 "nbformat_minor": 4
}
